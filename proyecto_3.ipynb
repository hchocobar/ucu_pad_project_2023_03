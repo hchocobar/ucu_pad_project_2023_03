{
 "cells": [
  {
   "cell_type": "markdown",
   "metadata": {},
   "source": [
    "# Proyecto\n",
    "\n",
    "Esta tarea requiere que encuentres al menos dos datasets en la web que estén relacionados, y que visualices estos conjuntos de datos para responder una pregunta acerca de un tema amplio (por ejemplo: deportes, salud, actividad económica, comparaciones demográficas, climática, etc.).\n",
    "\n",
    "Debes combinar estos conjuntos de datos con datos de Uruguay y compararlos con otras regiones o paises. Por ejemplo, es posible que desee comparar datos de Uruguay, con un país o una región de similares características en otro país. En todos los casos al menos un archivo fuente debe ser de Uruguay o de uno de sus departamentos.\n",
    "\n",
    "Puedes elegir los conjuntos de datos a tu discreción. Los materiales delicados, confidenciales, ilícitos y patentados no son buenas opciones para conjuntos de datos para esta tarea.\n",
    "\n",
    "Además, puedes conservar los datos en su idioma original, pero es una buena práctica también proporcionarlos con traducciones. Puedes proporcionar múltiples imágenes con las mismas visualizaciones pero en diferentes idiomas.\n",
    "\n",
    "## Indicaciones\n",
    "\n",
    "- Indica la región y la categoría de dominio de la que tratan los datasets (por ejemplo: Región: Salto, Uruguay; Categoría de dominio: deportes o atletismo).\n",
    "- Debes formular una pregunta sobre la categoría de dominio y la región que identificaste como interesante.\n",
    "- Debe proporcionar al menos dos enlaces a conjuntos de datos o datasets disponibles en la web. Estos pueden ser enlaces a archivos (csv o xls), o enlaces a sitios web que pueden tener datos en forma tabular, como páginas de Wikipedia.\n",
    "- Debes generar al menos una imagen que responda a la pregunta de investigación que planteaste. Además de abordar la pregunta, esta imagen debe seguir los principios de Cairo de veracidad, funcionalidad, belleza y perspicacia.\n",
    "- Debes contribuir con una breve justificación escrita (1-2 párrafos) de cómo su visualización aborda la pregunta de investigación planteada.\n",
    "- Todo esto en un único archivo de Jupyter Notebook que debe contener las siguientes secciones:\n",
    "  - Región y Dominio\n",
    "  - Pregunta\n",
    "  - Enlaces\n",
    "  - Código con comentarios\n",
    "  - Imágenes\n",
    "  - Conclusión\n",
    "\n",
    "## Consejos\n",
    "\n",
    "- El gobierno de Uruguay tiene una política de Datos Abiertos y encontrarás información centralizada en el [Catálogo de Datos Abiertos](https://catalogodatos.gub.uy/).\n",
    "- Wikipedia es una excelente fuente de datos y te recomendamos que la explores en busca de nuevas fuentes de datos.\n",
    "- Varias agencias internacionales, como las [Naciones Unidas](https://data.un.org/), el [Banco Mundial](https://data.worldbank.org/) son otros excelentes lugares para buscar datos. En la WebAsignatura encontrarás más enlaces.\n",
    "- Esta tarea requiere que conviertas y limpies los archivos de datos.\n",
    "- Consulta en el foro de WebAsignatura para obtener consejos sobre cómo hacer esto de varias fuentes y comparte tus éxitos con tus compañeros.\n"
   ]
  },
  {
   "cell_type": "code",
   "execution_count": null,
   "metadata": {
    "collapsed": false
   },
   "outputs": [],
   "source": [
    "import pandas as pd\n",
    "import numpy as np\n",
    "import matplotlib.pyplot as plt\n",
    "import matplotlib.ticker as mtick\n",
    "\n",
    "\n"
   ]
  }
 ],
 "metadata": {
  "kernelspec": {
   "display_name": "Python 3",
   "language": "python",
   "name": "python3"
  },
  "language_info": {
   "codemirror_mode": {
    "name": "ipython",
    "version": 3
   },
   "file_extension": ".py",
   "mimetype": "text/x-python",
   "name": "python",
   "nbconvert_exporter": "python",
   "pygments_lexer": "ipython3",
   "version": "3.6.2"
  }
 },
 "nbformat": 4,
 "nbformat_minor": 1
}
